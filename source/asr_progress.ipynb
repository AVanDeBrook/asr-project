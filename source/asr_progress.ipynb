{
 "cells": [
  {
   "cell_type": "markdown",
   "id": "aad7dd8a",
   "metadata": {},
   "source": [
    "# ASR Project Progress --- Speech/Language Understanding\n",
    "This notebook will present some statistics about the dataset that I've put together from various sources as well as compare results from pretrained, fine-tuned, and normally trained models.\n",
    "\n",
    "The goal of this stage of the project is for the models to achieve a good speech/language understanding of aviation english. As you will see from the results in this notebook, models pretrained on conversational english datasets (e.g. LibriSpeech and WSJ) perform very poorly on our data, often reaching error rates between 90% and 110%.\n",
    "\n",
    "The preliminary imports are below e.g. OS interface packages, pytorch, pretty-print functions, etc."
   ]
  },
  {
   "cell_type": "code",
   "execution_count": 20,
   "id": "a4a02c8e",
   "metadata": {},
   "outputs": [],
   "source": [
    "import glob\n",
    "import os\n",
    "import torch\n",
    "import gc\n",
    "from pprint import pprint"
   ]
  },
  {
   "cell_type": "markdown",
   "id": "74fde3cb",
   "metadata": {},
   "source": [
    "The following cell contains some sanity checks to make sure the model checkpoints I created are still available/exist, that the GPU on the machine is available, and that the pretrained checkpoints from Nvidia are still available."
   ]
  },
  {
   "cell_type": "code",
   "execution_count": 23,
   "id": "17eab12c",
   "metadata": {},
   "outputs": [
    {
     "name": "stdout",
     "output_type": "stream",
     "text": [
      "GPU available: True\n",
      "\n",
      "Saved model checkpoints:\n",
      "------------------------\n",
      "['checkpoints/jasper_finetuned.nemo',\n",
      " 'checkpoints/quartznet_finetuned.nemo',\n",
      " 'checkpoints/ctc_randominit.nemo']\n",
      "\n",
      "Pretrained models:\n",
      "------------------\n",
      "['stt_en_jasper10x5dr', 'QuartzNet15x5Base-En']\n"
     ]
    }
   ],
   "source": [
    "# GPU sanity check\n",
    "print(f\"GPU available: {torch.cuda.is_available()}\\n\")\n",
    "\n",
    "# get list of model checkpoints\n",
    "checkpoints = glob.glob(os.path.join(\"checkpoints\", \"*.nemo\"))\n",
    "pretrained = [\n",
    "    \"stt_en_jasper10x5dr\",\n",
    "    \"QuartzNet15x5Base-En\"\n",
    "]\n",
    "print(\"Saved model checkpoints:\")\n",
    "print(\"------------------------\")\n",
    "pprint(checkpoints)\n",
    "\n",
    "print(\"\\nPretrained models:\")\n",
    "print(\"------------------\")\n",
    "pprint(pretrained)\n",
    "\n",
    "# memory clean-up just in case there was stuff running on the GPU previously\n",
    "gc.collect()\n",
    "torch.cuda.empty_cache()"
   ]
  },
  {
   "cell_type": "markdown",
   "id": "0616bf20",
   "metadata": {},
   "source": []
  }
 ],
 "metadata": {
  "kernelspec": {
   "display_name": "Python 3 (ipykernel)",
   "language": "python",
   "name": "python3"
  },
  "language_info": {
   "codemirror_mode": {
    "name": "ipython",
    "version": 3
   },
   "file_extension": ".py",
   "mimetype": "text/x-python",
   "name": "python",
   "nbconvert_exporter": "python",
   "pygments_lexer": "ipython3",
   "version": "3.8.16"
  }
 },
 "nbformat": 4,
 "nbformat_minor": 5
}
